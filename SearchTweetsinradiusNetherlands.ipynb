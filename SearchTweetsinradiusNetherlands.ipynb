{
 "metadata": {
  "name": "",
  "signature": "sha256:6699e8e7057efa423b1ca2648ee2805b2b7bfb2e1fb678ca58b3fdd5ece9bfbf"
 },
 "nbformat": 3,
 "nbformat_minor": 0,
 "worksheets": [
  {
   "cells": [
    {
     "cell_type": "markdown",
     "metadata": {},
     "source": [
      "## Search Tweets in radius Netherlands\n",
      "## Loner\n",
      "## Bob Houtkooper\n",
      "## 21-01-2016"
     ]
    },
    {
     "cell_type": "markdown",
     "metadata": {},
     "source": [
      "Import modules"
     ]
    },
    {
     "cell_type": "code",
     "collapsed": false,
     "input": [
      "from twython import Twython\n",
      "import csv\n",
      "import shapefile as shp\n",
      "import os\n",
      "from osgeo import ogr, osr"
     ],
     "language": "python",
     "metadata": {},
     "outputs": [],
     "prompt_number": 1
    },
    {
     "cell_type": "markdown",
     "metadata": {},
     "source": [
      "Set working directory, create directories"
     ]
    },
    {
     "cell_type": "code",
     "collapsed": false,
     "input": [
      "os.chdir(\"/home/user/bin/Exercise14\")\n",
      "\n",
      "data = 'data' \n",
      "if not os.path.exists(data):\n",
      "    os.makedirs(data)\n",
      "\n",
      "output = 'output' \n",
      "if not os.path.exists(output):\n",
      "    os.makedirs(output)"
     ],
     "language": "python",
     "metadata": {},
     "outputs": [],
     "prompt_number": 2
    },
    {
     "cell_type": "markdown",
     "metadata": {},
     "source": [
      "Import data from Twitter and put in csv file"
     ]
    },
    {
     "cell_type": "code",
     "collapsed": false,
     "input": [
      "APP_KEY = 'VPlyEBliAc6I8MYxu9sMaYP5y'\n",
      "APP_SECRET =  'XsvW3gr7NTdXK3WL9gFHXJswHxwTvUGgWP23OJCYPmRYKaFqcX' \n",
      "OAUTH_TOKEN =  '305606643-Om93fksNwVH4Fgap9Hz1HSlX0r4zViLsh6k8O0ur'\n",
      "OAUTH_TOKEN_SECRET =  'AZ4UsLTyE61HzE5ATLqQdzCePt46yN8AYhZ1Nx4B3pM2T'\n",
      "twitter = Twython(APP_KEY, APP_SECRET, OAUTH_TOKEN, OAUTH_TOKEN_SECRET)\n",
      "\n",
      "latitude = 52.38333333333333\n",
      "longitude = 4.916666666666667                \n",
      "max_range = 190 ##capture all of the Netherlands\n",
      "max_loops = 100\n",
      "outfile = \"/home/user/bin/Exercise14/data/twitterdata.csv\"  \n",
      "\n",
      "csvfile = file(outfile, \"w\")\n",
      "csvwriter = csv.writer(csvfile)\n",
      "\n",
      "row = [ \"user\", \"text\", \"latitude\", \"longitude\" ]\n",
      "csvwriter.writerow(row)\n",
      "\n",
      "count=0\n",
      "while count<max_loops:\n",
      "    count=count+1\n",
      "    search_results = twitter.search(q=\"\", geocode = \"%f,%f,%dkm\" % (latitude, longitude, max_range),count=100)\n",
      "    for tweets in search_results[\"statuses\"]:    \n",
      "        if tweets[\"geo\"]:\n",
      "            user = tweets[\"user\"][\"screen_name\"]\n",
      "            text = tweets[\"text\"]\n",
      "            text = text.encode('ascii', 'replace')\n",
      "            latitude = tweets[\"geo\"][\"coordinates\"][0]\n",
      "            longitude = tweets[\"geo\"][\"coordinates\"][1]\n",
      "            row = [ user, text, latitude, longitude ]\n",
      "            csvwriter.writerow(row)    \n",
      "csvfile.close()"
     ],
     "language": "python",
     "metadata": {},
     "outputs": [],
     "prompt_number": 9
    },
    {
     "cell_type": "markdown",
     "metadata": {},
     "source": [
      "CSV to shapefile"
     ]
    },
    {
     "cell_type": "code",
     "collapsed": false,
     "input": [
      "out_file = '/home/user/bin/Exercise14/data/tweet_points.shp'\n",
      "\n",
      "user=[]\n",
      "text=[]\n",
      "latitude=[]\n",
      "longitude=[]\n",
      "\n",
      "with open('data/twitterdata.csv', 'rb') as csvfile:\n",
      "    r = csv.reader(csvfile, delimiter=',')\n",
      "    for i,row in enumerate(r):\n",
      "        if i > 0: \n",
      "            user.append(row[0])\n",
      "            text.append(row[1])\n",
      "            latitude.append(float(row[2]))\n",
      "            longitude.append(float(row[3]))\n",
      "\n",
      "w = shp.Writer(shp.POINT)\n",
      "w.autoBalance = 1\n",
      "w.field('user','C',20)\n",
      "w.field('text','C',140)\n",
      "w.field('latitude','F',10,8)\n",
      "w.field('longitude','F',10,8)\n",
      "for j,k in enumerate(longitude):\n",
      "    w.point(k,latitude[j])\n",
      "    w.record(user[j], text[j], k,latitude[j])\n",
      "w.save(out_file)"
     ],
     "language": "python",
     "metadata": {},
     "outputs": [],
     "prompt_number": 10
    },
    {
     "cell_type": "code",
     "collapsed": false,
     "input": [],
     "language": "python",
     "metadata": {},
     "outputs": []
    }
   ],
   "metadata": {}
  }
 ]
}